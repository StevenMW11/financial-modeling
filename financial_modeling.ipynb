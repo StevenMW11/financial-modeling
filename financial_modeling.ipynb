{
 "cells": [
  {
   "cell_type": "code",
   "execution_count": 1,
   "metadata": {},
   "outputs": [],
   "source": [
    "import pandas as pd\n",
    "import matplotlib.pyplot as plt\n",
    "import statistics\n",
    "import requests"
   ]
  },
  {
   "cell_type": "code",
   "execution_count": 2,
   "metadata": {},
   "outputs": [],
   "source": [
    "#Free Financial Modeling API Key -- financialmodelingprep.com\n",
    "\n",
    "api = \"ca7e7c2e793adf2e914fdbc4af043efd\"\n",
    "\n",
    "#Example: \"https://financialmodelingprep.com/api/v3/income-statement/TICKET?limit=YEARS&api_key=api\"\n",
    "website_url = \"https://financialmodelingprep.com/api/v3/\"\n"
   ]
  },
  {
   "cell_type": "code",
   "execution_count": 26,
   "metadata": {},
   "outputs": [],
   "source": [
    "#Download Income Statement - Quarterly\n",
    "company = \"AAPL\"\n",
    "periods = 5\n",
    "\n",
    "income_statements = requests.get(f\"{website_url}/income-statement/{company}?&limit={periods}&apikey={api}\")\n",
    "income_statements = income_statements.json()\n"
   ]
  },
  {
   "cell_type": "code",
   "execution_count": 27,
   "metadata": {},
   "outputs": [
    {
     "data": {
      "image/png": "[encoded data removed]",
      "text/plain": [
       "<Figure size 432x288 with 1 Axes>"
      ]
     },
     "metadata": {
      "needs_background": "light"
     },
     "output_type": "display_data"
    }
   ],
   "source": [
    "revenues = list(reversed([income_statements[i]['revenue'] for i in range(len(income_statements))]))\n",
    "profits = list(reversed([income_statements[i]['grossProfit'] for i in range(len(income_statements))]))\n",
    "\n",
    "plt.plot(revenues, label=\"Revenue\")\n",
    "plt.plot(profits, label=\"Profit\")\n",
    "plt.legend(loc=\"upper left\")\n",
    "plt.show()"
   ]
  },
  {
   "cell_type": "code",
   "execution_count": 29,
   "metadata": {},
   "outputs": [],
   "source": [
    "#Create a CSV\n",
    "income_statements = requests.get(f\"{website_url}/income-statement/{company}?datatype=csv&limit={periods}&apikey={api}\")\n",
    "\n",
    "with open('data.csv', 'wb') as file:\n",
    "    file.write(income_statements.content)\n"
   ]
  },
  {
   "cell_type": "code",
   "execution_count": null,
   "metadata": {},
   "outputs": [],
   "source": []
  }
 ],
 "metadata": {
  "kernelspec": {
   "display_name": "Python 3.10.1 64-bit",
   "language": "python",
   "name": "python3"
  },
  "language_info": {
   "codemirror_mode": {
    "name": "ipython",
    "version": 3
   },
   "file_extension": ".py",
   "mimetype": "text/x-python",
   "name": "python",
   "nbconvert_exporter": "python",
   "pygments_lexer": "ipython3",
   "version": "3.10.1"
  },
  "orig_nbformat": 4,
  "vscode": {
   "interpreter": {
    "hash": "ab65a6a126614c4d8a09c3bb162b3d2e4f4a949753c6f0f735c7c1fe269df83b"
   }
  }
 },
 "nbformat": 4,
 "nbformat_minor": 2
}
